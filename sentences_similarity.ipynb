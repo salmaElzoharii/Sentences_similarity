{
 "cells": [
  {
   "cell_type": "code",
   "execution_count": null,
   "metadata": {},
   "outputs": [],
   "source": [
    "from sentence_transformers import SentenceTransformer, util\n",
    "from nltk.tokenize import sent_tokenize\n",
    "from IPython.display import display, HTML"
   ]
  },
  {
   "cell_type": "code",
   "execution_count": 67,
   "metadata": {},
   "outputs": [],
   "source": [
    "def read_from_file(filename):\n",
    "    with open(filename, 'r', encoding='utf-8') as file:\n",
    "        text = file.read().strip()  \n",
    "    sentences = [sentence.strip() for sentence in text.split('\\n') if sentence.strip()]  \n",
    "    return sentences"
   ]
  },
  {
   "cell_type": "code",
   "execution_count": 68,
   "metadata": {},
   "outputs": [
    {
     "data": {
      "text/html": [
       "<div style=\"background-color: rgb(138, 117, 0); padding: 5px; margin-bottom: 5px;\">the cat love drinking milk.</div><div style=\"background-color: rgb(138, 117, 0); padding: 5px; margin-bottom: 5px;\">i enjoy drinking my coffee every morning.</div><div style=\"background-color: rgb(178, 77, 0); padding: 5px; margin-bottom: 5px;\">i am going to school.</div><div style=\"background-color: rgb(178, 77, 0); padding: 5px; margin-bottom: 5px;\">i go to school at 8:00 am .</div><div style=\"background-color: rgb(207, 48, 0); padding: 5px; margin-bottom: 5px;\">the sky is very beautiful.</div><div style=\"background-color: rgb(207, 48, 0); padding: 5px; margin-bottom: 5px;\">the weather is sunny.</div><div style=\"background-color: rgb(176, 79, 0); padding: 5px; margin-bottom: 5px;\">i love planting.</div><div style=\"background-color: rgb(176, 79, 0); padding: 5px; margin-bottom: 5px;\">i love poets.</div><div style=\"background-color: rgb(207, 48, 0); padding: 5px; margin-bottom: 5px;\">the weather is sunny.</div><div style=\"background-color: rgb(207, 48, 0); padding: 5px; margin-bottom: 5px;\">the sky is very beautiful.</div><div style=\"background-color: rgb(184, 71, 0); padding: 5px; margin-bottom: 5px;\">i am very sad.</div><div style=\"background-color: rgb(184, 71, 0); padding: 5px; margin-bottom: 5px;\">the exam was very difficult.</div><div style=\"background-color: rgb(135, 120, 0); padding: 5px; margin-bottom: 5px;\">what are you doing.</div><div style=\"background-color: rgb(135, 120, 0); padding: 5px; margin-bottom: 5px;\">i am very sad.</div><div style=\"background-color: rgb(184, 71, 0); padding: 5px; margin-bottom: 5px;\">the exam was very difficult.</div><div style=\"background-color: rgb(184, 71, 0); padding: 5px; margin-bottom: 5px;\">i am very sad.</div><div style=\"background-color: rgb(158, 97, 0); padding: 5px; margin-bottom: 5px;\">while i was walking,i met my best friend.</div><div style=\"background-color: rgb(158, 97, 0); padding: 5px; margin-bottom: 5px;\">my teacher told me that i am very smart.</div><div style=\"background-color: rgb(147, 108, 0); padding: 5px; margin-bottom: 5px;\">i am starting a new position as a data intern.</div><div style=\"background-color: rgb(147, 108, 0); padding: 5px; margin-bottom: 5px;\">i am going to school.</div><div style=\"background-color: rgb(188, 67, 0); padding: 5px; margin-bottom: 5px;\">All animals are beautiful.</div><div style=\"background-color: rgb(188, 67, 0); padding: 5px; margin-bottom: 5px;\">the sky is very beautiful.</div><div style=\"background-color: rgb(177, 78, 0); padding: 5px; margin-bottom: 5px;\">natural language processing became very powerful.</div><div style=\"background-color: rgb(177, 78, 0); padding: 5px; margin-bottom: 5px;\">this man is very strong.</div><div style=\"background-color: rgb(178, 77, 0); padding: 5px; margin-bottom: 5px;\">i go to school at 8:00 am .</div><div style=\"background-color: rgb(178, 77, 0); padding: 5px; margin-bottom: 5px;\">i am going to school.</div><div style=\"background-color: rgb(158, 97, 0); padding: 5px; margin-bottom: 5px;\">my teacher told me that i am very smart.</div><div style=\"background-color: rgb(158, 97, 0); padding: 5px; margin-bottom: 5px;\">while i was walking,i met my best friend.</div><div style=\"background-color: rgb(176, 79, 0); padding: 5px; margin-bottom: 5px;\">i love poets.</div><div style=\"background-color: rgb(176, 79, 0); padding: 5px; margin-bottom: 5px;\">i love planting.</div><div style=\"background-color: rgb(138, 117, 0); padding: 5px; margin-bottom: 5px;\">i enjoy drinking my coffee every morning.</div><div style=\"background-color: rgb(138, 117, 0); padding: 5px; margin-bottom: 5px;\">the cat love drinking milk.</div><div style=\"background-color: rgb(147, 108, 0); padding: 5px; margin-bottom: 5px;\">i go to the gym 2 times per week.</div><div style=\"background-color: rgb(147, 108, 0); padding: 5px; margin-bottom: 5px;\">i go to school at 8:00 am .</div><div style=\"background-color: rgb(129, 126, 0); padding: 5px; margin-bottom: 5px;\">the salad was delicious.</div><div style=\"background-color: rgb(129, 126, 0); padding: 5px; margin-bottom: 5px;\">i love planting.</div><div style=\"background-color: rgb(187, 68, 0); padding: 5px; margin-bottom: 5px;\">this man is very strong.</div><div style=\"background-color: rgb(187, 68, 0); padding: 5px; margin-bottom: 5px;\">this man is like a superhero.</div><div style=\"background-color: rgb(187, 68, 0); padding: 5px; margin-bottom: 5px;\">this man is like a superhero.</div><div style=\"background-color: rgb(187, 68, 0); padding: 5px; margin-bottom: 5px;\">this man is very strong.</div><div style=\"background-color: rgb(196, 59, 0); padding: 5px; margin-bottom: 5px;\">this girl is very beautiful.</div><div style=\"background-color: rgb(196, 59, 0); padding: 5px; margin-bottom: 5px;\">the sky is very beautiful.</div>"
      ],
      "text/plain": [
       "<IPython.core.display.HTML object>"
      ]
     },
     "metadata": {},
     "output_type": "display_data"
    }
   ],
   "source": [
    "def highlight_sentences(sentences):\n",
    "  \n",
    "    model = SentenceTransformer('distilbert-base-nli-mean-tokens')\n",
    "    embeddings = model.encode(sentences)\n",
    "    similarity_matrix = util.pytorch_cos_sim(embeddings, embeddings)\n",
    "    outputs = []\n",
    "    for i in range(len(sentences)):\n",
    "        sentence = sentences[i]\n",
    "        max_sim_score = 0.0\n",
    "        max_similar = 0\n",
    "        \n",
    "        for j in range(len(sentences)):\n",
    "            if i!=j:\n",
    "                similarity_score = similarity_matrix[i][j].item()\n",
    "                if similarity_score > max_sim_score:\n",
    "                    max_sim_score = similarity_score\n",
    "                    max_similar = j\n",
    "\n",
    "        color_value = int(max_sim_score * 255)\n",
    "        background_color = f\"rgb({color_value}, {255-color_value}, 0)\"  \n",
    "        \n",
    "        outputs.append(f'<div style=\"background-color: {background_color}; padding: 5px; margin-bottom: 5px;\">{sentence}</div>')\n",
    "        if i != max_similar:\n",
    "            similar_sentence = sentences[max_similar]\n",
    "            outputs.append(f'<div style=\"background-color: {background_color}; padding: 5px; margin-bottom: 5px;\">{similar_sentence}</div>')\n",
    "   \n",
    "    display(HTML(''.join(outputs)))\n",
    "\n",
    "filename = 'D://second_file.txt'\n",
    "sentences = read_sentences_from_file(filename)\n",
    "highlight_sentences(sentences)\n"
   ]
  }
 ],
 "metadata": {
  "kernelspec": {
   "display_name": "Python 3",
   "language": "python",
   "name": "python3"
  },
  "language_info": {
   "codemirror_mode": {
    "name": "ipython",
    "version": 3
   },
   "file_extension": ".py",
   "mimetype": "text/x-python",
   "name": "python",
   "nbconvert_exporter": "python",
   "pygments_lexer": "ipython3",
   "version": "3.11.5"
  }
 },
 "nbformat": 4,
 "nbformat_minor": 2
}
